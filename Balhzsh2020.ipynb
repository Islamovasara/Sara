{
 "cells": [
  {
   "cell_type": "code",
   "execution_count": 143,
   "id": "5085ea6d",
   "metadata": {},
   "outputs": [],
   "source": [
    "import pandas as pd\n",
    "import numpy as np\n",
    "import matplotlib.pyplot as plt\n",
    "import seaborn as sns"
   ]
  },
  {
   "cell_type": "code",
   "execution_count": 144,
   "id": "52ab5d0d",
   "metadata": {},
   "outputs": [],
   "source": [
    "df = pd.read_csv('Balhash2020.csv')"
   ]
  },
  {
   "cell_type": "code",
   "execution_count": 145,
   "id": "2502f127",
   "metadata": {},
   "outputs": [
    {
     "data": {
      "text/html": [
       "<div>\n",
       "<style scoped>\n",
       "    .dataframe tbody tr th:only-of-type {\n",
       "        vertical-align: middle;\n",
       "    }\n",
       "\n",
       "    .dataframe tbody tr th {\n",
       "        vertical-align: top;\n",
       "    }\n",
       "\n",
       "    .dataframe thead th {\n",
       "        text-align: right;\n",
       "    }\n",
       "</style>\n",
       "<table border=\"1\" class=\"dataframe\">\n",
       "  <thead>\n",
       "    <tr style=\"text-align: right;\">\n",
       "      <th></th>\n",
       "      <th>Код поста</th>\n",
       "      <th>Дата</th>\n",
       "      <th>Значение</th>\n",
       "    </tr>\n",
       "  </thead>\n",
       "  <tbody>\n",
       "    <tr>\n",
       "      <th>0</th>\n",
       "      <td>14002</td>\n",
       "      <td>2020-01-01</td>\n",
       "      <td>275</td>\n",
       "    </tr>\n",
       "    <tr>\n",
       "      <th>1</th>\n",
       "      <td>14002</td>\n",
       "      <td>2020-01-02</td>\n",
       "      <td>276</td>\n",
       "    </tr>\n",
       "    <tr>\n",
       "      <th>2</th>\n",
       "      <td>14002</td>\n",
       "      <td>2020-01-03</td>\n",
       "      <td>273</td>\n",
       "    </tr>\n",
       "    <tr>\n",
       "      <th>3</th>\n",
       "      <td>14002</td>\n",
       "      <td>2020-01-04</td>\n",
       "      <td>272</td>\n",
       "    </tr>\n",
       "    <tr>\n",
       "      <th>4</th>\n",
       "      <td>14002</td>\n",
       "      <td>2020-01-05</td>\n",
       "      <td>259</td>\n",
       "    </tr>\n",
       "    <tr>\n",
       "      <th>...</th>\n",
       "      <td>...</td>\n",
       "      <td>...</td>\n",
       "      <td>...</td>\n",
       "    </tr>\n",
       "    <tr>\n",
       "      <th>361</th>\n",
       "      <td>14002</td>\n",
       "      <td>2020-12-27</td>\n",
       "      <td>231</td>\n",
       "    </tr>\n",
       "    <tr>\n",
       "      <th>362</th>\n",
       "      <td>14002</td>\n",
       "      <td>2020-12-28</td>\n",
       "      <td>248</td>\n",
       "    </tr>\n",
       "    <tr>\n",
       "      <th>363</th>\n",
       "      <td>14002</td>\n",
       "      <td>2020-12-29</td>\n",
       "      <td>248</td>\n",
       "    </tr>\n",
       "    <tr>\n",
       "      <th>364</th>\n",
       "      <td>14002</td>\n",
       "      <td>2020-12-30</td>\n",
       "      <td>253</td>\n",
       "    </tr>\n",
       "    <tr>\n",
       "      <th>365</th>\n",
       "      <td>14002</td>\n",
       "      <td>2020-12-31</td>\n",
       "      <td>252</td>\n",
       "    </tr>\n",
       "  </tbody>\n",
       "</table>\n",
       "<p>366 rows × 3 columns</p>\n",
       "</div>"
      ],
      "text/plain": [
       "     Код поста        Дата  Значение\n",
       "0        14002  2020-01-01       275\n",
       "1        14002  2020-01-02       276\n",
       "2        14002  2020-01-03       273\n",
       "3        14002  2020-01-04       272\n",
       "4        14002  2020-01-05       259\n",
       "..         ...         ...       ...\n",
       "361      14002  2020-12-27       231\n",
       "362      14002  2020-12-28       248\n",
       "363      14002  2020-12-29       248\n",
       "364      14002  2020-12-30       253\n",
       "365      14002  2020-12-31       252\n",
       "\n",
       "[366 rows x 3 columns]"
      ]
     },
     "execution_count": 145,
     "metadata": {},
     "output_type": "execute_result"
    }
   ],
   "source": [
    "df"
   ]
  },
  {
   "cell_type": "code",
   "execution_count": 146,
   "id": "8be17f8f",
   "metadata": {},
   "outputs": [],
   "source": [
    "df['Дата'] = pd.to_datetime(df['Дата'])"
   ]
  },
  {
   "cell_type": "code",
   "execution_count": 147,
   "id": "f1c57096",
   "metadata": {},
   "outputs": [],
   "source": [
    "# Извлекаем день, месяц и год\n",
    "# Год\n",
    "df['Год'] = df['Дата'].dt.year\n",
    "# Месяц\n",
    "df['Месяц'] = df['Дата'].dt.month\n",
    "# День\n",
    "df['День'] = df['Дата'].dt.day"
   ]
  },
  {
   "cell_type": "code",
   "execution_count": 148,
   "id": "932f7913",
   "metadata": {},
   "outputs": [
    {
     "data": {
      "text/plain": [
       "array([14002], dtype=int64)"
      ]
     },
     "execution_count": 148,
     "metadata": {},
     "output_type": "execute_result"
    }
   ],
   "source": [
    "df['Код поста'].unique()"
   ]
  },
  {
   "cell_type": "code",
   "execution_count": 149,
   "id": "9fe82c3d",
   "metadata": {},
   "outputs": [
    {
     "data": {
      "text/html": [
       "<div>\n",
       "<style scoped>\n",
       "    .dataframe tbody tr th:only-of-type {\n",
       "        vertical-align: middle;\n",
       "    }\n",
       "\n",
       "    .dataframe tbody tr th {\n",
       "        vertical-align: top;\n",
       "    }\n",
       "\n",
       "    .dataframe thead th {\n",
       "        text-align: right;\n",
       "    }\n",
       "</style>\n",
       "<table border=\"1\" class=\"dataframe\">\n",
       "  <thead>\n",
       "    <tr style=\"text-align: right;\">\n",
       "      <th></th>\n",
       "      <th>Код поста</th>\n",
       "      <th>Дата</th>\n",
       "      <th>Значение</th>\n",
       "      <th>Год</th>\n",
       "      <th>Месяц</th>\n",
       "      <th>День</th>\n",
       "    </tr>\n",
       "  </thead>\n",
       "  <tbody>\n",
       "  </tbody>\n",
       "</table>\n",
       "</div>"
      ],
      "text/plain": [
       "Empty DataFrame\n",
       "Columns: [Код поста, Дата, Значение, Год, Месяц, День]\n",
       "Index: []"
      ]
     },
     "execution_count": 149,
     "metadata": {},
     "output_type": "execute_result"
    }
   ],
   "source": [
    "df[df['Значение'] == 'нб']"
   ]
  },
  {
   "cell_type": "code",
   "execution_count": 150,
   "id": "f10aa926",
   "metadata": {},
   "outputs": [],
   "source": [
    "df['Значение'] = df['Значение'].replace('нб', np.nan) # Заменяем нб на nan"
   ]
  },
  {
   "cell_type": "code",
   "execution_count": 151,
   "id": "52088952",
   "metadata": {},
   "outputs": [],
   "source": [
    "df['Значение'] = df['Значение'].fillna(0) # Заполняем nan на 0"
   ]
  },
  {
   "cell_type": "code",
   "execution_count": 152,
   "id": "236c9cd1",
   "metadata": {},
   "outputs": [],
   "source": [
    "df['Значение'] = df['Значение'].astype(float) # Переводим тип из object(str) в float"
   ]
  },
  {
   "cell_type": "code",
   "execution_count": 153,
   "id": "5101039b",
   "metadata": {},
   "outputs": [
    {
     "data": {
      "text/plain": [
       "0      275.0\n",
       "1      276.0\n",
       "2      273.0\n",
       "3      272.0\n",
       "4      259.0\n",
       "       ...  \n",
       "361    231.0\n",
       "362    248.0\n",
       "363    248.0\n",
       "364    253.0\n",
       "365    252.0\n",
       "Name: Значение, Length: 366, dtype: float64"
      ]
     },
     "execution_count": 153,
     "metadata": {},
     "output_type": "execute_result"
    }
   ],
   "source": [
    "df['Значение']"
   ]
  },
  {
   "cell_type": "code",
   "execution_count": 154,
   "id": "5aba6821",
   "metadata": {},
   "outputs": [
    {
     "data": {
      "text/plain": [
       "232.03005464480876"
      ]
     },
     "execution_count": 154,
     "metadata": {},
     "output_type": "execute_result"
    }
   ],
   "source": [
    "df['Значение'].mean() # среднее значение "
   ]
  },
  {
   "cell_type": "code",
   "execution_count": 155,
   "id": "cc52a76f",
   "metadata": {},
   "outputs": [],
   "source": [
    "df['Значение'].replace(0,round(df['Значение'].mean(), ndigits=3), inplace=True) \n",
    "# заменям(заполняем) все нули на среднее значение колонки"
   ]
  },
  {
   "cell_type": "code",
   "execution_count": 156,
   "id": "affaeccf",
   "metadata": {
    "scrolled": false
   },
   "outputs": [
    {
     "data": {
      "text/plain": [
       "<Axes: xlabel='Дата'>"
      ]
     },
     "execution_count": 156,
     "metadata": {},
     "output_type": "execute_result"
    },
    {
     "data": {
      "image/png": "[encoded data removed]",
      "text/plain": [
       "<Figure size 640x480 with 1 Axes>"
      ]
     },
     "metadata": {},
     "output_type": "display_data"
    }
   ],
   "source": [
    "df.plot(kind='line', x='Дата', y='Значение')"
   ]
  },
  {
   "cell_type": "markdown",
   "id": "03c38376",
   "metadata": {},
   "source": [
    "# Сызықтық регрессия моделі:"
   ]
  },
  {
   "cell_type": "code",
   "execution_count": 157,
   "id": "c350769e",
   "metadata": {},
   "outputs": [],
   "source": [
    "# Выделяем характеристики (год) и целевую переменную (значение) из рамки данных:\n",
    "X = df['Год'].values.reshape(-1, 1)\n",
    "y = df['Значение'].values"
   ]
  },
  {
   "cell_type": "code",
   "execution_count": 158,
   "id": "941b0409",
   "metadata": {},
   "outputs": [],
   "source": [
    "# Разделяем данные на обучающие и тестовые наборы, используя train_test_split из sklearn.model_selection:\n",
    "from sklearn.model_selection import train_test_split\n",
    "\n",
    "X_train, X_test, y_train, y_test = train_test_split(X, y, test_size=0.3, random_state=42)"
   ]
  },
  {
   "cell_type": "code",
   "execution_count": 159,
   "id": "604024f5",
   "metadata": {},
   "outputs": [
    {
     "data": {
      "text/html": [
       "<style>#sk-container-id-7 {color: black;background-color: white;}#sk-container-id-7 pre{padding: 0;}#sk-container-id-7 div.sk-toggleable {background-color: white;}#sk-container-id-7 label.sk-toggleable__label {cursor: pointer;display: block;width: 100%;margin-bottom: 0;padding: 0.3em;box-sizing: border-box;text-align: center;}#sk-container-id-7 label.sk-toggleable__label-arrow:before {content: \"▸\";float: left;margin-right: 0.25em;color: #696969;}#sk-container-id-7 label.sk-toggleable__label-arrow:hover:before {color: black;}#sk-container-id-7 div.sk-estimator:hover label.sk-toggleable__label-arrow:before {color: black;}#sk-container-id-7 div.sk-toggleable__content {max-height: 0;max-width: 0;overflow: hidden;text-align: left;background-color: #f0f8ff;}#sk-container-id-7 div.sk-toggleable__content pre {margin: 0.2em;color: black;border-radius: 0.25em;background-color: #f0f8ff;}#sk-container-id-7 input.sk-toggleable__control:checked~div.sk-toggleable__content {max-height: 200px;max-width: 100%;overflow: auto;}#sk-container-id-7 input.sk-toggleable__control:checked~label.sk-toggleable__label-arrow:before {content: \"▾\";}#sk-container-id-7 div.sk-estimator input.sk-toggleable__control:checked~label.sk-toggleable__label {background-color: #d4ebff;}#sk-container-id-7 div.sk-label input.sk-toggleable__control:checked~label.sk-toggleable__label {background-color: #d4ebff;}#sk-container-id-7 input.sk-hidden--visually {border: 0;clip: rect(1px 1px 1px 1px);clip: rect(1px, 1px, 1px, 1px);height: 1px;margin: -1px;overflow: hidden;padding: 0;position: absolute;width: 1px;}#sk-container-id-7 div.sk-estimator {font-family: monospace;background-color: #f0f8ff;border: 1px dotted black;border-radius: 0.25em;box-sizing: border-box;margin-bottom: 0.5em;}#sk-container-id-7 div.sk-estimator:hover {background-color: #d4ebff;}#sk-container-id-7 div.sk-parallel-item::after {content: \"\";width: 100%;border-bottom: 1px solid gray;flex-grow: 1;}#sk-container-id-7 div.sk-label:hover label.sk-toggleable__label {background-color: #d4ebff;}#sk-container-id-7 div.sk-serial::before {content: \"\";position: absolute;border-left: 1px solid gray;box-sizing: border-box;top: 0;bottom: 0;left: 50%;z-index: 0;}#sk-container-id-7 div.sk-serial {display: flex;flex-direction: column;align-items: center;background-color: white;padding-right: 0.2em;padding-left: 0.2em;position: relative;}#sk-container-id-7 div.sk-item {position: relative;z-index: 1;}#sk-container-id-7 div.sk-parallel {display: flex;align-items: stretch;justify-content: center;background-color: white;position: relative;}#sk-container-id-7 div.sk-item::before, #sk-container-id-7 div.sk-parallel-item::before {content: \"\";position: absolute;border-left: 1px solid gray;box-sizing: border-box;top: 0;bottom: 0;left: 50%;z-index: -1;}#sk-container-id-7 div.sk-parallel-item {display: flex;flex-direction: column;z-index: 1;position: relative;background-color: white;}#sk-container-id-7 div.sk-parallel-item:first-child::after {align-self: flex-end;width: 50%;}#sk-container-id-7 div.sk-parallel-item:last-child::after {align-self: flex-start;width: 50%;}#sk-container-id-7 div.sk-parallel-item:only-child::after {width: 0;}#sk-container-id-7 div.sk-dashed-wrapped {border: 1px dashed gray;margin: 0 0.4em 0.5em 0.4em;box-sizing: border-box;padding-bottom: 0.4em;background-color: white;}#sk-container-id-7 div.sk-label label {font-family: monospace;font-weight: bold;display: inline-block;line-height: 1.2em;}#sk-container-id-7 div.sk-label-container {text-align: center;}#sk-container-id-7 div.sk-container {/* jupyter's `normalize.less` sets `[hidden] { display: none; }` but bootstrap.min.css set `[hidden] { display: none !important; }` so we also need the `!important` here to be able to override the default hidden behavior on the sphinx rendered scikit-learn.org. See: https://github.com/scikit-learn/scikit-learn/issues/21755 */display: inline-block !important;position: relative;}#sk-container-id-7 div.sk-text-repr-fallback {display: none;}</style><div id=\"sk-container-id-7\" class=\"sk-top-container\"><div class=\"sk-text-repr-fallback\"><pre>LinearRegression()</pre><b>In a Jupyter environment, please rerun this cell to show the HTML representation or trust the notebook. <br />On GitHub, the HTML representation is unable to render, please try loading this page with nbviewer.org.</b></div><div class=\"sk-container\" hidden><div class=\"sk-item\"><div class=\"sk-estimator sk-toggleable\"><input class=\"sk-toggleable__control sk-hidden--visually\" id=\"sk-estimator-id-7\" type=\"checkbox\" checked><label for=\"sk-estimator-id-7\" class=\"sk-toggleable__label sk-toggleable__label-arrow\">LinearRegression</label><div class=\"sk-toggleable__content\"><pre>LinearRegression()</pre></div></div></div></div></div>"
      ],
      "text/plain": [
       "LinearRegression()"
      ]
     },
     "execution_count": 159,
     "metadata": {},
     "output_type": "execute_result"
    }
   ],
   "source": [
    "# Импортируем модель линейной регрессии из sklearn.linear_model и обучаем модель:\n",
    "from sklearn.linear_model import LinearRegression\n",
    "\n",
    "model = LinearRegression()\n",
    "model.fit(X_train, y_train)"
   ]
  },
  {
   "cell_type": "markdown",
   "id": "90133389",
   "metadata": {},
   "source": [
    "# Делайте прогнозы и рассчитывайте статистику:"
   ]
  },
  {
   "cell_type": "code",
   "execution_count": 160,
   "id": "a0b05d6e",
   "metadata": {},
   "outputs": [],
   "source": [
    "# Делаем прогнозы на тестовом наборе, используя обученную модель:\n",
    "y_pred = model.predict(X_test)"
   ]
  },
  {
   "cell_type": "code",
   "execution_count": 161,
   "id": "270bcc51",
   "metadata": {},
   "outputs": [
    {
     "data": {
      "image/png": "[encoded data removed]",
      "text/plain": [
       "<Figure size 640x480 with 1 Axes>"
      ]
     },
     "metadata": {},
     "output_type": "display_data"
    }
   ],
   "source": [
    "# Создаем точечную диаграмму фактических значений и прогнозируемых значений:\n",
    "plt.scatter(X_test, y_test, color='blue', label='Фактические значения')\n",
    "plt.plot(X_test, y_pred, color='red', label='Прогнозируемые значения')\n",
    "plt.xlabel('Год')\n",
    "plt.ylabel('Значение')\n",
    "plt.legend()\n",
    "plt.tight_layout()\n",
    "plt.show()"
   ]
  },
  {
   "cell_type": "markdown",
   "id": "23cd1c55",
   "metadata": {},
   "source": [
    "Чтобы оценить точность модели линейной регрессии и сравнить фактические значения с прогнозируемыми, вы можете использовать различные регрессионные показатели. Вот пример с использованием показателей среднеквадратичной ошибки (MSE) и коэффициента детерминации (R-квадрат):"
   ]
  },
  {
   "cell_type": "code",
   "execution_count": 162,
   "id": "3ecbc3e1",
   "metadata": {},
   "outputs": [
    {
     "name": "stdout",
     "output_type": "stream",
     "text": [
      "Mean Squared Error (MSE): 2433.5852272727275\n",
      "Coefficient of Determination (R-squared): -0.007509942300051087\n"
     ]
    }
   ],
   "source": [
    "from sklearn.metrics import mean_squared_error, r2_score\n",
    "\n",
    "# Calculate the mean squared error (MSE)\n",
    "mse = mean_squared_error(y_test, y_pred)\n",
    "print('Mean Squared Error (MSE):', mse)\n",
    "\n",
    "# Calculate the coefficient of determination (R-squared)\n",
    "r2 = r2_score(y_test, y_pred)\n",
    "print('Coefficient of Determination (R-squared):', r2)\n"
   ]
  },
  {
   "cell_type": "markdown",
   "id": "b432da96",
   "metadata": {},
   "source": [
    "Среднеквадратичная ошибка (MSE) измеряет среднеквадратичную разницу между прогнозируемыми значениями и фактическими значениями. Более низкий MSE указывает на лучшее соответствие модели данным.\n",
    "\n",
    "Коэффициент детерминации (R-квадрат) представляет собой долю дисперсии целевой переменной, которая может быть объяснена с помощью модели линейной регрессии. Оно колеблется от 0 до 1, где 1 означает идеальную посадку. Более высокие значения R-квадрата указывают на лучшее соответствие модели данным.\n",
    "\n",
    "Распечатав эти показатели, вы сможете оценить точность и производительность вашей модели линейной регрессии."
   ]
  },
  {
   "cell_type": "code",
   "execution_count": 163,
   "id": "382e874c",
   "metadata": {},
   "outputs": [],
   "source": [
    "# Рассчитаем статистические данные, такие как среднее, максимальное и минимальное значения за 1 год:\n",
    "year_stats = df.groupby('Год')['Значение'].agg(['mean', 'max', 'min'])"
   ]
  },
  {
   "cell_type": "code",
   "execution_count": 164,
   "id": "67777453",
   "metadata": {
    "scrolled": true
   },
   "outputs": [
    {
     "data": {
      "text/html": [
       "<div>\n",
       "<style scoped>\n",
       "    .dataframe tbody tr th:only-of-type {\n",
       "        vertical-align: middle;\n",
       "    }\n",
       "\n",
       "    .dataframe tbody tr th {\n",
       "        vertical-align: top;\n",
       "    }\n",
       "\n",
       "    .dataframe thead th {\n",
       "        text-align: right;\n",
       "    }\n",
       "</style>\n",
       "<table border=\"1\" class=\"dataframe\">\n",
       "  <thead>\n",
       "    <tr style=\"text-align: right;\">\n",
       "      <th></th>\n",
       "      <th>mean</th>\n",
       "      <th>max</th>\n",
       "      <th>min</th>\n",
       "    </tr>\n",
       "    <tr>\n",
       "      <th>Год</th>\n",
       "      <th></th>\n",
       "      <th></th>\n",
       "      <th></th>\n",
       "    </tr>\n",
       "  </thead>\n",
       "  <tbody>\n",
       "    <tr>\n",
       "      <th>2020</th>\n",
       "      <td>232.030055</td>\n",
       "      <td>357.0</td>\n",
       "      <td>117.0</td>\n",
       "    </tr>\n",
       "  </tbody>\n",
       "</table>\n",
       "</div>"
      ],
      "text/plain": [
       "            mean    max    min\n",
       "Год                           \n",
       "2020  232.030055  357.0  117.0"
      ]
     },
     "execution_count": 164,
     "metadata": {},
     "output_type": "execute_result"
    }
   ],
   "source": [
    "year_stats"
   ]
  },
  {
   "cell_type": "code",
   "execution_count": 165,
   "id": "9f1011ee",
   "metadata": {},
   "outputs": [
    {
     "data": {
      "text/html": [
       "<div>\n",
       "<style scoped>\n",
       "    .dataframe tbody tr th:only-of-type {\n",
       "        vertical-align: middle;\n",
       "    }\n",
       "\n",
       "    .dataframe tbody tr th {\n",
       "        vertical-align: top;\n",
       "    }\n",
       "\n",
       "    .dataframe thead th {\n",
       "        text-align: right;\n",
       "    }\n",
       "</style>\n",
       "<table border=\"1\" class=\"dataframe\">\n",
       "  <thead>\n",
       "    <tr style=\"text-align: right;\">\n",
       "      <th></th>\n",
       "      <th>mean</th>\n",
       "      <th>max</th>\n",
       "      <th>min</th>\n",
       "    </tr>\n",
       "  </thead>\n",
       "  <tbody>\n",
       "    <tr>\n",
       "      <th>count</th>\n",
       "      <td>1.000000</td>\n",
       "      <td>1.0</td>\n",
       "      <td>1.0</td>\n",
       "    </tr>\n",
       "    <tr>\n",
       "      <th>mean</th>\n",
       "      <td>232.030055</td>\n",
       "      <td>357.0</td>\n",
       "      <td>117.0</td>\n",
       "    </tr>\n",
       "    <tr>\n",
       "      <th>std</th>\n",
       "      <td>NaN</td>\n",
       "      <td>NaN</td>\n",
       "      <td>NaN</td>\n",
       "    </tr>\n",
       "    <tr>\n",
       "      <th>min</th>\n",
       "      <td>232.030055</td>\n",
       "      <td>357.0</td>\n",
       "      <td>117.0</td>\n",
       "    </tr>\n",
       "    <tr>\n",
       "      <th>25%</th>\n",
       "      <td>232.030055</td>\n",
       "      <td>357.0</td>\n",
       "      <td>117.0</td>\n",
       "    </tr>\n",
       "    <tr>\n",
       "      <th>50%</th>\n",
       "      <td>232.030055</td>\n",
       "      <td>357.0</td>\n",
       "      <td>117.0</td>\n",
       "    </tr>\n",
       "    <tr>\n",
       "      <th>75%</th>\n",
       "      <td>232.030055</td>\n",
       "      <td>357.0</td>\n",
       "      <td>117.0</td>\n",
       "    </tr>\n",
       "    <tr>\n",
       "      <th>max</th>\n",
       "      <td>232.030055</td>\n",
       "      <td>357.0</td>\n",
       "      <td>117.0</td>\n",
       "    </tr>\n",
       "  </tbody>\n",
       "</table>\n",
       "</div>"
      ],
      "text/plain": [
       "             mean    max    min\n",
       "count    1.000000    1.0    1.0\n",
       "mean   232.030055  357.0  117.0\n",
       "std           NaN    NaN    NaN\n",
       "min    232.030055  357.0  117.0\n",
       "25%    232.030055  357.0  117.0\n",
       "50%    232.030055  357.0  117.0\n",
       "75%    232.030055  357.0  117.0\n",
       "max    232.030055  357.0  117.0"
      ]
     },
     "execution_count": 165,
     "metadata": {},
     "output_type": "execute_result"
    }
   ],
   "source": [
    "year_stats.describe()"
   ]
  },
  {
   "cell_type": "code",
   "execution_count": null,
   "id": "b61055c6",
   "metadata": {},
   "outputs": [],
   "source": []
  },
  {
   "cell_type": "code",
   "execution_count": null,
   "id": "e0776eea",
   "metadata": {},
   "outputs": [],
   "source": []
  },
  {
   "cell_type": "code",
   "execution_count": null,
   "id": "ac767eac",
   "metadata": {},
   "outputs": [],
   "source": []
  }
 ],
 "metadata": {
  "kernelspec": {
   "display_name": "Python 3 (ipykernel)",
   "language": "python",
   "name": "python3"
  },
  "language_info": {
   "codemirror_mode": {
    "name": "ipython",
    "version": 3
   },
   "file_extension": ".py",
   "mimetype": "text/x-python",
   "name": "python",
   "nbconvert_exporter": "python",
   "pygments_lexer": "ipython3",
   "version": "3.10.9"
  }
 },
 "nbformat": 4,
 "nbformat_minor": 5
}
